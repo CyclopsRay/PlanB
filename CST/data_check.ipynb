{
 "cells": [
  {
   "cell_type": "code",
   "execution_count": 2,
   "metadata": {},
   "outputs": [
    {
     "name": "stdout",
     "output_type": "stream",
     "text": [
      "(500, 100, 2)\n"
     ]
    }
   ],
   "source": [
    "import pickle\n",
    "\n",
    "data = pickle.load(open('/users/ztang47/genom/CST/datasets/50_IE_Spirals.p', \"rb\" ))\n",
    "data = data['Data_orig']\n",
    "print(data.shape)"
   ]
  },
  {
   "cell_type": "code",
   "execution_count": 1,
   "metadata": {},
   "outputs": [
    {
     "name": "stdout",
     "output_type": "stream",
     "text": [
      "128.71495154495463\n",
      "-113.2786068117734\n",
      "-1.24864782511787\n",
      "14.003995095218961\n",
      "(1948, 99)\n"
     ]
    }
   ],
   "source": [
    "import pandas as pd\n",
    "import numpy as np\n",
    "\n",
    "data = pd.read_csv('/users/ztang47/githubs/PlanB/schiebinger2019/large_test/matched-pca/1.tsv.gz', sep='\\t')\n",
    "data = np.array(data)\n",
    "print(data.max())\n",
    "print(data.min())\n",
    "print(data.mean())\n",
    "print(data.std())\n",
    "print(data.shape)"
   ]
  },
  {
   "cell_type": "code",
   "execution_count": 14,
   "metadata": {},
   "outputs": [
    {
     "data": {
      "text/plain": [
       "(3, 2, 4, 5)"
      ]
     },
     "execution_count": 14,
     "metadata": {},
     "output_type": "execute_result"
    }
   ],
   "source": [
    "a=np.zeros((3,4,5))\n",
    "np.stack([a,a], axis=1).shape"
   ]
  }
 ],
 "metadata": {
  "kernelspec": {
   "display_name": "vae_att",
   "language": "python",
   "name": "python3"
  },
  "language_info": {
   "codemirror_mode": {
    "name": "ipython",
    "version": 3
   },
   "file_extension": ".py",
   "mimetype": "text/x-python",
   "name": "python",
   "nbconvert_exporter": "python",
   "pygments_lexer": "ipython3",
   "version": "3.8.17"
  }
 },
 "nbformat": 4,
 "nbformat_minor": 2
}
